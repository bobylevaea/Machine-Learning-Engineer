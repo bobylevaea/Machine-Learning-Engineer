{
  "cells": [
    {
      "cell_type": "markdown",
      "id": "194ee24b-50d1-4175-b37e-2e3f7e762269",
      "metadata": {
        "id": "194ee24b-50d1-4175-b37e-2e3f7e762269"
      },
      "source": [
        "# Чтение файлов в Python и командной строке. Практическая работа\n",
        "\n",
        "### Цели практической работы\n",
        "1. Научиться считывать информацию из файлов и совершать над ней операции с помощью кода на Python и командной строки.\n",
        "2. Закрепить навыки стыковки команд в конвейеры и установки внешних пакетов с помощью пакетного менеджера pip.\n",
        "\n",
        "### Что входит в практическую работу\n",
        "1. Работа с файлами в командной строке.\n",
        "2. Работа с файлами в Python 1.\n",
        "3. Работа с файлами в Python 2.\n",
        "4. Импортирование модулей.\n",
        "5. Установка внешних модулей через pip.\n",
        "6. Бонусное задание.\n",
        "\n",
        "### Что оценивается\n",
        "* Выполнены пять обязательных заданий, в каждом из них:\n",
        " * программа выполняет все описанные в задании действия;\n",
        " * результаты вычислений и применённых операций корректны;\n",
        " * стилизация кода соответствует рекомендациям [PEP 8](https://pythonworld.ru/osnovy/pep-8-rukovodstvo-po-napisaniyu-koda-na-python.html).\n",
        "\n",
        "\n",
        "### Как отправить работу на проверку\n",
        "Все задания собраны в один Jupyter Notebook. Выполните их, сохраните изменения при помощи опции Save and Checkpoint из вкладки меню File или кнопки Save and Checkpoint на панели инструментов. Отправьте итоговый файл Jupyter Notebook в формате IPYNB или ссылку на него через форму для сдачи практической работы.\n",
        "\n",
        "---"
      ]
    },
    {
      "cell_type": "markdown",
      "id": "a44f6df4",
      "metadata": {
        "id": "a44f6df4"
      },
      "source": [
        "## Задание 1. Работа с файлами в командной строке\n",
        "\n",
        "Ранее вы считали количество всех слов в рассказе А. П. Чехова «Анна на шее». Теперь необходимо определить, сколько раз каждое слово встречается в тексте.\n",
        "\n",
        "Вы уже знаете команды sort и uniq, умеете с их помощью считать количество уникальных строк в построчном файле. В результате у вас должен был получиться такой конвейер команд: `cat anna_words.txt | sort | uniq | wc -l`.\n",
        "\n",
        "Команда cat перенаправляет слова из файла в команду sort, которая сортирует слова и передаёт упорядоченный список в команду uniq. Последняя удаляет дубликаты и направляет список уникальных слов в команду wc −l, которая их считает.\n",
        "\n",
        "### Что нужно сделать\n",
        "\n",
        "Посчитайте количество уникальных слов и определите частоту встречаемости каждого слова. Информацию в виде `частота слово` сохраните в текстовый файл. Для этого:\n",
        "1. Измените конвейер команд так, чтобы он выводил слова и их частоту встречаемости на экран.\n",
        "2. Перенаправьте вывод конвейера в текстовый файл `words_freq.txt`.\n",
        "\n",
        "Если всё сделаете правильно, то получится текстовый файл `words_freq.txt`, в котором будут слова и их частота в виде:\n",
        "\n",
        "```\n",
        "...\n",
        "   1 по-прежнему\n",
        "   2 по-французски\n",
        "  40 аня\n",
        "   6 бал\n",
        "   1 бог\n",
        "   2 ваш\n",
        "   2 вид\n",
        "...\n",
        "```\n",
        "\n",
        "3. Скопируйте конвейер команд в ячейку, которая расположена непосредственно под этой.\n",
        "\n",
        "### Подсказки\n",
        "1. Ознакомьтесь с документацией команды uniq, обратите внимание на её ключ `-с`. Официальную документацию можно почитать прямо в командной строке: для этого выполните команду `man uniq`. Команда `man` (от англ. manual) выводит справку для команды, которая передаётся в man как аргумент. Если читать текст в терминале непривычно, то можете поискать информацию в интернете.\n",
        "\n",
        "2. Перенаправить вывод команды в bash можно с помощью символа `>`. О том, как это сделать, читайте в интернете. Например, в статье [**«Перенаправление ввода вывода Linux»**](https://losst.ru/perenapravlenie-vvoda-vyvoda-linux)."
      ]
    },
    {
      "cell_type": "markdown",
      "id": "ac416392",
      "metadata": {
        "id": "ac416392"
      },
      "source": [
        "### Вставьте конвейер команд, который у вас получился"
      ]
    },
    {
      "cell_type": "code",
      "execution_count": 3,
      "id": "b9b13546-4933-4e8c-b0a7-62ce13863320",
      "metadata": {
        "id": "b9b13546-4933-4e8c-b0a7-62ce13863320"
      },
      "outputs": [],
      "source": [
        "!cat anna_words.txt | sort | uniq -c | sort -nr > words_freq.txt"
      ]
    },
    {
      "cell_type": "code",
      "source": [
        "!ls"
      ],
      "metadata": {
        "colab": {
          "base_uri": "https://localhost:8080/"
        },
        "id": "8Ue_s1dTcxQn",
        "outputId": "93ca63ff-9a8b-47ce-aefb-4dde6cbee3fc"
      },
      "id": "8Ue_s1dTcxQn",
      "execution_count": 4,
      "outputs": [
        {
          "output_type": "stream",
          "name": "stdout",
          "text": [
            "anna_words.txt\tsample_data  words_freq.txt\n"
          ]
        }
      ]
    },
    {
      "cell_type": "raw",
      "id": "35aa50c3-7d4e-4667-8157-da4ad8761cdd",
      "metadata": {
        "id": "35aa50c3-7d4e-4667-8157-da4ad8761cdd"
      },
      "source": [
        "##\n",
        "## Вставьте конвейер команд сюда.\n",
        "##"
      ]
    },
    {
      "cell_type": "markdown",
      "id": "3952c1a6",
      "metadata": {
        "id": "3952c1a6"
      },
      "source": [
        "---\n",
        "\n",
        "## Задание 2. Работа с файлами в Python 1\n",
        "\n",
        "### Что нужно сделать\n",
        "В рассказе А. П. Чехова «Анна на шее» найдите десять слов, которые встречаются чаще всего.\n",
        "\n",
        "1. Напишите код на Python, который читает файл `word_freq.txt` по строкам, преобразует каждую из них в кортеж `(частота, слово)` и складывает полученные кортежи в список.\n",
        "2. Отсортируйте список по частотам, выведите на экран десять самых популярных слов и их частоты.\n",
        "\n",
        "### Подсказки\n",
        "1. Обратите внимание, что строки в файле содержат «лишние» символы: пробелы в начале и символ перевода строки в конце. Работать будет удобнее, если предварительно удалить их. Сделать это можно с помощью метода  `strip`. Ознакомьтесь с ним подробнее в [**официальной документации**](https://docs.python.org/3/library/stdtypes.html?highlight=strip#str.strip).\n",
        "\n",
        "2. Сейчас частота и слово — это одна строка, в которой они разделены пробелом. Их можно разделить с помощью метода [**`split`**](https://docs.python.org/3/library/stdtypes.html?highlight=split#str.split).\n",
        "\n",
        "3. Для сортировки в Python есть функция `sorted`. Она принимает на вход итерируемый объект, сравнивает его элементы между собой и возвращает итерируемый объект, который отсортирован. По умолчанию функция размещает элементы в порядке возрастания. Например, `sorted([2, 4, 1, 0])` вернёт `[0, 1, 2, 4]`. Подробнее про работу функции можно почитать в [**официальной документации**](https://docs.python.org/3/library/functions.html?highlight=sorted#sorted)"
      ]
    },
    {
      "cell_type": "code",
      "execution_count": 6,
      "id": "c98e4d0b",
      "metadata": {
        "id": "c98e4d0b",
        "colab": {
          "base_uri": "https://localhost:8080/"
        },
        "outputId": "b3486c27-c875-4bba-afb1-6fb5b4d1d624"
      },
      "outputs": [
        {
          "output_type": "stream",
          "name": "stdout",
          "text": [
            "Десять самых популярных слов:\n",
            "аня: 40\n",
            "свой: 28\n",
            "говорить: 19\n",
            "это: 17\n",
            "сказать: 17\n",
            "модест: 17\n",
            "который: 17\n",
            "алексеич: 17\n",
            "человек: 16\n",
            "рука: 16\n"
          ]
        }
      ],
      "source": [
        "# Чтение файла и создание списка кортежей\n",
        "word_freq_list = []\n",
        "\n",
        "with open('words_freq.txt', 'r', encoding='utf-8') as file:\n",
        "    for line in file:\n",
        "        # Удаление лишних пробелов и символов новой строки\n",
        "        line = line.strip()\n",
        "        # Разделение строки на частоту и слово\n",
        "        parts = line.split()\n",
        "        if len(parts) == 2:  # Убедимся, что строка содержит две части\n",
        "            frequency = int(parts[0])  # Преобразуем частоту в целое число\n",
        "            word = parts[1]  # Слово\n",
        "            word_freq_list.append((frequency, word))  # Добавляем кортеж в список\n",
        "\n",
        "# Сортировка списка по частоте в порядке убывания\n",
        "sorted_word_freq = sorted(word_freq_list, key=lambda x: x[0], reverse=True)\n",
        "\n",
        "# Вывод десяти самых популярных слов и их частоты\n",
        "print(\"Десять самых популярных слов:\")\n",
        "for freq, word in sorted_word_freq[:10]:\n",
        "    print(f\"{word}: {freq}\")"
      ]
    },
    {
      "cell_type": "markdown",
      "id": "8639569c",
      "metadata": {
        "id": "8639569c"
      },
      "source": [
        "---\n",
        "\n",
        "## Задание 3. Работа с файлами в Python 2\n",
        "\n",
        "### Что нужно сделать\n",
        "Найдите букву, с которой чаще всего начинаются слова в рассказе А. П. Чехова «Анна на шее».\n",
        "1. Используйте файл с частотами слов `words_freq.txt`.\n",
        "2. Напишите код в Python, который выводит на экран самую популярную первую букву и количество слов на неё.\n",
        "\n",
        "\n",
        "### Подсказки\n",
        "Скорее всего, вы будете искать в словаре ключ с максимальным значением. Чтобы упростить работу, отсортируйте словарь. Сортировать словарь по значениям сложнее, чем список объектов, которые можно сравнивать непосредственно. Обратите внимание на параметр key функции [**sorted**](https://docs.python.org/3/library/functions.html?highlight=sorted#sorted)."
      ]
    },
    {
      "cell_type": "code",
      "execution_count": 7,
      "id": "6da9050c",
      "metadata": {
        "id": "6da9050c",
        "colab": {
          "base_uri": "https://localhost:8080/"
        },
        "outputId": "3639eb95-c8e0-4956-cf66-1204237ce730"
      },
      "outputs": [
        {
          "output_type": "stream",
          "name": "stdout",
          "text": [
            "Самая популярная первая буква: 'п' с количеством слов: 196\n"
          ]
        }
      ],
      "source": [
        "# Создание словаря для подсчета слов по первой букве\n",
        "letter_count = {}\n",
        "\n",
        "with open('words_freq.txt', 'r', encoding='utf-8') as file:\n",
        "    for line in file:\n",
        "        line = line.strip()\n",
        "        parts = line.split()\n",
        "        if len(parts) == 2:\n",
        "            word = parts[1]  # Получаем слово\n",
        "            first_letter = word[0].lower()  # Первая буква в нижнем регистре\n",
        "\n",
        "            # Увеличиваем счетчик для первой буквы\n",
        "            if first_letter in letter_count:\n",
        "                letter_count[first_letter] += 1\n",
        "            else:\n",
        "                letter_count[first_letter] = 1\n",
        "\n",
        "# Находим букву с максимальным количеством слов\n",
        "most_common_letter = max(letter_count, key=letter_count.get)\n",
        "most_common_count = letter_count[most_common_letter]\n",
        "\n",
        "# Вывод результата\n",
        "print(f\"Самая популярная первая буква: '{most_common_letter}' с количеством слов: {most_common_count}\")"
      ]
    },
    {
      "cell_type": "markdown",
      "id": "b94a18e9",
      "metadata": {
        "id": "b94a18e9"
      },
      "source": [
        "---\n",
        "\n",
        "## Задание 4. Импортирование модулей\n",
        "\n",
        "###Что нужно сделать\n",
        "Напишите функцию `circ_sqrt`. Она должна принимать один параметр `r` типа `float` и возвращать квадратный корень из длины окружности радиуса `r`.\n",
        "\n",
        "### Подсказки\n",
        "- Используйте функции встроенного модуля math.\n",
        "- В работе функции учтите область определения квадратного корня."
      ]
    },
    {
      "cell_type": "code",
      "execution_count": 8,
      "id": "f9ddadb6",
      "metadata": {
        "id": "f9ddadb6",
        "colab": {
          "base_uri": "https://localhost:8080/"
        },
        "outputId": "191e9f75-21e0-498c-9adc-ac08eb87b514"
      },
      "outputs": [
        {
          "output_type": "stream",
          "name": "stdout",
          "text": [
            "Квадратный корень из длины окружности радиуса 5.0: 5.604991216397929\n"
          ]
        }
      ],
      "source": [
        "import math\n",
        "\n",
        "def circ_sqrt(r: float) -> float:\n",
        "    # Проверка на положительность радиуса\n",
        "    if r < 0:\n",
        "        raise ValueError(\"Радиус должен быть неотрицательным.\")\n",
        "\n",
        "    # Длина окружности: C = 2 * π * r\n",
        "    circumference = 2 * math.pi * r\n",
        "\n",
        "    # Возвращаем квадратный корень из длины окружности\n",
        "    return math.sqrt(circumference)\n",
        "\n",
        "# Пример использования функции\n",
        "try:\n",
        "    radius = 5.0\n",
        "    result = circ_sqrt(radius)\n",
        "    print(f\"Квадратный корень из длины окружности радиуса {radius}: {result}\")\n",
        "except ValueError as e:\n",
        "    print(e)\n"
      ]
    },
    {
      "cell_type": "markdown",
      "id": "73df457b",
      "metadata": {
        "id": "73df457b"
      },
      "source": [
        "---\n",
        "\n",
        "## Задание 5. Установка внешних модулей через pip\n",
        "\n",
        "### Что нужно сделать\n",
        "\n",
        "Установите пакеты из PyPi с помощью пакетного менеджера pip и используйте их в коде.\n",
        "1. Установите пакет `cowsay`.\n",
        "2. Установите в систему пакет `wikipedia` — Python API для очень популярной онлайн-энциклопедии.\n",
        "3. Напишите функцию `random_article`, которая выводит на экран очень умную корову. Корова должна «рассказывать» краткое содержание случайной статьи из «Википедии» на английском языке.\n",
        "\n",
        "\n",
        "### Подсказки\n",
        "\n",
        "Вам понадобятся следующие функции пакета `wikipedia`:\n",
        "\n",
        "* [**wikipedia.random**](https://wikipedia.readthedocs.io/en/latest/code.html#wikipedia.random)\n",
        "* [**wikipedia.summary**](https://wikipedia.readthedocs.io/en/latest/code.html#wikipedia.summary)"
      ]
    },
    {
      "cell_type": "code",
      "source": [
        "!pip install cowsay\n",
        "!pip install wikipedia\n"
      ],
      "metadata": {
        "colab": {
          "base_uri": "https://localhost:8080/"
        },
        "id": "reYoHoc3e4Yd",
        "outputId": "bfe6b100-22a8-4489-f95a-3ce09f4a45e9"
      },
      "id": "reYoHoc3e4Yd",
      "execution_count": 9,
      "outputs": [
        {
          "output_type": "stream",
          "name": "stdout",
          "text": [
            "Collecting cowsay\n",
            "  Downloading cowsay-6.1-py3-none-any.whl.metadata (5.6 kB)\n",
            "Downloading cowsay-6.1-py3-none-any.whl (25 kB)\n",
            "Installing collected packages: cowsay\n",
            "Successfully installed cowsay-6.1\n",
            "Collecting wikipedia\n",
            "  Downloading wikipedia-1.4.0.tar.gz (27 kB)\n",
            "  Preparing metadata (setup.py) ... \u001b[?25l\u001b[?25hdone\n",
            "Requirement already satisfied: beautifulsoup4 in /usr/local/lib/python3.11/dist-packages (from wikipedia) (4.13.3)\n",
            "Requirement already satisfied: requests<3.0.0,>=2.0.0 in /usr/local/lib/python3.11/dist-packages (from wikipedia) (2.32.3)\n",
            "Requirement already satisfied: charset-normalizer<4,>=2 in /usr/local/lib/python3.11/dist-packages (from requests<3.0.0,>=2.0.0->wikipedia) (3.4.1)\n",
            "Requirement already satisfied: idna<4,>=2.5 in /usr/local/lib/python3.11/dist-packages (from requests<3.0.0,>=2.0.0->wikipedia) (3.10)\n",
            "Requirement already satisfied: urllib3<3,>=1.21.1 in /usr/local/lib/python3.11/dist-packages (from requests<3.0.0,>=2.0.0->wikipedia) (2.3.0)\n",
            "Requirement already satisfied: certifi>=2017.4.17 in /usr/local/lib/python3.11/dist-packages (from requests<3.0.0,>=2.0.0->wikipedia) (2025.1.31)\n",
            "Requirement already satisfied: soupsieve>1.2 in /usr/local/lib/python3.11/dist-packages (from beautifulsoup4->wikipedia) (2.6)\n",
            "Requirement already satisfied: typing-extensions>=4.0.0 in /usr/local/lib/python3.11/dist-packages (from beautifulsoup4->wikipedia) (4.13.1)\n",
            "Building wheels for collected packages: wikipedia\n",
            "  Building wheel for wikipedia (setup.py) ... \u001b[?25l\u001b[?25hdone\n",
            "  Created wheel for wikipedia: filename=wikipedia-1.4.0-py3-none-any.whl size=11678 sha256=3842da71afc699ac69c4246e8d70ca5142b88946cd038dfdf59c1e757beba036\n",
            "  Stored in directory: /root/.cache/pip/wheels/8f/ab/cb/45ccc40522d3a1c41e1d2ad53b8f33a62f394011ec38cd71c6\n",
            "Successfully built wikipedia\n",
            "Installing collected packages: wikipedia\n",
            "Successfully installed wikipedia-1.4.0\n"
          ]
        }
      ]
    },
    {
      "cell_type": "code",
      "source": [
        "import cowsay\n",
        "import wikipedia\n",
        "\n",
        "def random_article():\n",
        "    # Получаем случайную статью из Википедии\n",
        "    article_title = wikipedia.random()\n",
        "\n",
        "    # Получаем краткое содержание статьи\n",
        "    summary = wikipedia.summary(article_title, sentences=2)\n",
        "\n",
        "    # Используем корову для вывода\n",
        "    cowsay.cow(summary)\n",
        "\n",
        "# Пример вызова функции\n",
        "random_article()"
      ],
      "metadata": {
        "colab": {
          "base_uri": "https://localhost:8080/"
        },
        "id": "qSxt1EeLe_UB",
        "outputId": "c78e2935-88b3-4ad4-d9cf-1320965a43e8"
      },
      "id": "qSxt1EeLe_UB",
      "execution_count": 10,
      "outputs": [
        {
          "output_type": "stream",
          "name": "stdout",
          "text": [
            "  _________________________________________________\n",
            " /                                                 \\\n",
            "| Auguste Wilbrandt-Baudius (1 June 1843, Zwickau – |\n",
            "|  30 March 1937, Vienna) was a German-Austrian act |\n",
            "| ress, writer and journalist. She is considered on |\n",
            "| e of the most popular actresses of her time in Vi |\n",
            "| enna, especially for female and mother roles.     |\n",
            " \\                                                 /\n",
            "  =================================================\n",
            "                                                 \\\n",
            "                                                  \\\n",
            "                                                    ^__^\n",
            "                                                    (oo)\\_______\n",
            "                                                    (__)\\       )\\/\\\n",
            "                                                        ||----w |\n",
            "                                                        ||     ||\n"
          ]
        }
      ]
    },
    {
      "cell_type": "markdown",
      "id": "af263b7d",
      "metadata": {
        "id": "af263b7d"
      },
      "source": [
        "---\n",
        "\n",
        "## Задание 6. Бонусное\n",
        "\n",
        "### Что нужно сделать\n",
        "\n",
        "Выясните, как слова в рассказе «Анна на шее» распределяются по длине.\n",
        "\n",
        "1. Посчитайте, сколько слов длины 1, 2 и так далее в файле anna_words.txt.\n",
        "\n",
        "2. Выведите на экран информацию в формате `длина количество_слов`, отсортируйте её по возрастанию длины.\n",
        "\n",
        "3. Перенесите вывод программы в Excel или Google Таблицы и постройте столбчатую диаграмму.\n",
        "\n",
        "4. Сравните ваш график с [распределением русских слов по длине](http://nskhuman.ru/unislov/statist.php?nstat=21). В гистограмме по ссылке больше данных, поэтому она лучше показывает соотношение длины слов и их количества в русском языке.\n",
        "\n",
        "### Советы и рекомендации\n",
        "Вероятнее всего, вы снова будете использовать словарь. Ключами в нём будет длина слов, а значениями — количество слов этой длины. Обратите внимание, что словарь нужно сортировать по ключам, а не по значениям, как вы делали ранее."
      ]
    },
    {
      "cell_type": "code",
      "execution_count": 11,
      "id": "31cd934a",
      "metadata": {
        "id": "31cd934a",
        "colab": {
          "base_uri": "https://localhost:8080/"
        },
        "outputId": "e1818d7b-a127-4b55-b85d-824fd6998450"
      },
      "outputs": [
        {
          "output_type": "stream",
          "name": "stdout",
          "text": [
            "1 6\n",
            "2 13\n",
            "3 127\n",
            "4 299\n",
            "5 288\n",
            "6 334\n",
            "7 399\n",
            "8 314\n",
            "9 182\n",
            "10 124\n",
            "11 111\n",
            "12 45\n",
            "13 21\n",
            "14 11\n",
            "15 7\n",
            "16 1\n",
            "17 4\n",
            "18 2\n"
          ]
        }
      ],
      "source": [
        "# Создание словаря для подсчета количества слов по длине\n",
        "length_count = {}\n",
        "\n",
        "with open('anna_words.txt', 'r', encoding='utf-8') as file:\n",
        "    for line in file:\n",
        "        # Удаляем лишние пробелы и символы новой строки\n",
        "        words = line.strip().split()\n",
        "        for word in words:\n",
        "            word_length = len(word)  # Получаем длину слова\n",
        "\n",
        "            # Увеличиваем счетчик для соответствующей длины слова\n",
        "            if word_length in length_count:\n",
        "                length_count[word_length] += 1\n",
        "            else:\n",
        "                length_count[word_length] = 1\n",
        "\n",
        "# Сортируем словарь по ключам (длинам слов)\n",
        "sorted_length_count = dict(sorted(length_count.items()))\n",
        "\n",
        "# Вывод результата\n",
        "for length, count in sorted_length_count.items():\n",
        "    print(f\"{length} {count}\")\n"
      ]
    },
    {
      "cell_type": "code",
      "source": [
        "import pandas as pd\n",
        "# Преобразуем данные в DataFrame\n",
        "df = pd.DataFrame(sorted_length_count.items(), columns=['Длина слова', 'Количество слов'])\n"
      ],
      "metadata": {
        "id": "iJy9jEcOfzu8"
      },
      "id": "iJy9jEcOfzu8",
      "execution_count": 20,
      "outputs": []
    },
    {
      "cell_type": "code",
      "source": [
        "import matplotlib.pyplot as plt\n",
        "\n",
        "# Построение столбчатой диаграммы\n",
        "plt.figure(figsize=(10, 6))\n",
        "bars = plt.bar(df['Длина слова'], df['Количество слов'], color='skyblue')\n",
        "plt.title('Распределение слов по длине')\n",
        "plt.xlabel('Длина слова')\n",
        "plt.ylabel('Количество слов')\n",
        "plt.xticks(df['Длина слова'])  # Установка меток по оси X\n",
        "\n",
        "# Добавление меток данных над столбцами\n",
        "for bar in bars:\n",
        "    yval = bar.get_height()\n",
        "    plt.text(bar.get_x() + bar.get_width()/2, yval, int(yval), ha='center', va='bottom')\n",
        "\n",
        "plt.show()  # Отображение диаграммы"
      ],
      "metadata": {
        "colab": {
          "base_uri": "https://localhost:8080/",
          "height": 564
        },
        "id": "nW3izMZcib-Y",
        "outputId": "b1caf80d-6446-4ba6-a43b-2645b2e20e30"
      },
      "id": "nW3izMZcib-Y",
      "execution_count": 22,
      "outputs": [
        {
          "output_type": "display_data",
          "data": {
            "text/plain": [
              "<Figure size 1000x600 with 1 Axes>"
            ],
            "image/png": "[encoded data removed]"
          },
          "metadata": {}
        }
      ]
    }
  ],
  "metadata": {
    "colab": {
      "provenance": []
    },
    "kernelspec": {
      "display_name": "Python 3",
      "language": "python",
      "name": "python3"
    },
    "language_info": {
      "codemirror_mode": {
        "name": "ipython",
        "version": 3
      },
      "file_extension": ".py",
      "mimetype": "text/x-python",
      "name": "python",
      "nbconvert_exporter": "python",
      "pygments_lexer": "ipython3",
      "version": "3.8.13"
    }
  },
  "nbformat": 4,
  "nbformat_minor": 5
}